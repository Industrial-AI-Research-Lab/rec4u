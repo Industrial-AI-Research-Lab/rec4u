{
 "cells": [
  {
   "cell_type": "markdown",
   "metadata": {},
   "source": [
    "### Context generation for further single-hop and multi-hop question-answering dataset collection"
   ]
  },
  {
   "cell_type": "code",
   "execution_count": null,
   "metadata": {},
   "outputs": [],
   "source": [
    "import os\n",
    "PATH = ' '\n",
    "\n",
    "with open(os.path.join(PATH, 'intent_label_translation.txt')) as f:\n",
    "    intent_labels_translation = f.read().split(\"\\n\")\n",
    "    \n",
    "with open(os.path.join(PATH, 'intent_label.txt')) as f:\n",
    "    intent_labels = f.read().split(\"\\n\")"
   ]
  },
  {
   "cell_type": "code",
   "execution_count": null,
   "metadata": {},
   "outputs": [],
   "source": [
    "from context_generation import generation\n",
    "generated_context, context_labels = generation(intent_labels, intent_labels_translation, \n",
    "                                               num_examples_per_intent)\n"
   ]
  },
  {
   "cell_type": "code",
   "execution_count": null,
   "metadata": {},
   "outputs": [],
   "source": []
  },
  {
   "cell_type": "markdown",
   "metadata": {},
   "source": [
    "### Single-hop and multi-hop question-answering dataset collection"
   ]
  },
  {
   "cell_type": "code",
   "execution_count": null,
   "metadata": {},
   "outputs": [],
   "source": [
    "from dataset_collection import collect_dataset_single_hop, collect_dataset_multi_hop"
   ]
  },
  {
   "cell_type": "code",
   "execution_count": null,
   "metadata": {},
   "outputs": [],
   "source": [
    "single_hop_dataset = collect_dataset_single_hop(intent_label, intent_label_translation, \n",
    "                                                num_examples_per_intent, generated_context, ontology_name)\n"
   ]
  },
  {
   "cell_type": "code",
   "execution_count": null,
   "metadata": {},
   "outputs": [],
   "source": [
    "multi_hop_dataset = collect_dataset_multi_hop(single_hop_dataset, labels)"
   ]
  },
  {
   "cell_type": "code",
   "execution_count": null,
   "metadata": {},
   "outputs": [],
   "source": [
    "# Collected single-hop and multi-hop datasets are utilized to train JointBERT model following provided \n",
    "# instructions on https://github.com/monologg/JointBERT. Obtained results of knowledge graph entities \n",
    "# and relations detection are used for further SPARQL queries generation."
   ]
  },
  {
   "cell_type": "code",
   "execution_count": null,
   "metadata": {},
   "outputs": [],
   "source": []
  },
  {
   "cell_type": "markdown",
   "metadata": {},
   "source": [
    "### SPARQL queries generation"
   ]
  },
  {
   "cell_type": "code",
   "execution_count": null,
   "metadata": {},
   "outputs": [],
   "source": [
    "from queries_generation import fill_templates, queries_generation"
   ]
  },
  {
   "cell_type": "code",
   "execution_count": null,
   "metadata": {},
   "outputs": [],
   "source": [
    "with open(os.path.join(PATH, 'single_hop_JointBERT_results')) as f:\n",
    "    single_hop_JointBERT_results = f.read().split(\"\\n\")\n",
    "    \n",
    "with open(os.path.join(PATH, 'multi_hop_JointBERT_results')) as f:\n",
    "    multi_hop_JointBERT_results = f.read().split(\"\\n\")\n",
    "\n",
    "with open(os.path.join(PATH, 'slot_label.txt')) as f:\n",
    "    slot_labels = f.read().split(\"\\n\")\n",
    "    \n",
    "with open(os.path.join(PATH, 'intent_label.txt')) as f:\n",
    "    intent_labels = f.read().split(\"\\n\")   \n"
   ]
  },
  {
   "cell_type": "code",
   "execution_count": null,
   "metadata": {},
   "outputs": [],
   "source": [
    "intent_template_single_hop, slot_template_single_hop = fill_templates(intent_labels, slot_labels, \n",
    "                                                                      single_hop_JointBERT_results)\n",
    "\n",
    "intent_template_multi_hop, slot_template_multi_hop = fill_templates(intent_labels, slot_labels, \n",
    "                                                                    multi_hop_JointBERT_results)\n"
   ]
  },
  {
   "cell_type": "code",
   "execution_count": null,
   "metadata": {},
   "outputs": [],
   "source": [
    "single_hop_queries = queries_generation(intent_labels, slot_labels, intent_template_single_hop, \n",
    "                                        slot_template_single_hop, class_instances_name, ontology_name)\n"
   ]
  },
  {
   "cell_type": "code",
   "execution_count": null,
   "metadata": {},
   "outputs": [],
   "source": [
    "multi_hop_queries = queries_generation(intent_labels, slot_labels, intent_template_multi_hop, \n",
    "                                       slot_template_multi_hop, class_instances_name, ontology_name)\n"
   ]
  },
  {
   "cell_type": "code",
   "execution_count": null,
   "metadata": {},
   "outputs": [],
   "source": []
  }
 ],
 "metadata": {
  "kernelspec": {
   "display_name": "Python 3",
   "language": "python",
   "name": "python3"
  },
  "language_info": {
   "codemirror_mode": {
    "name": "ipython",
    "version": 3
   },
   "file_extension": ".py",
   "mimetype": "text/x-python",
   "name": "python",
   "nbconvert_exporter": "python",
   "pygments_lexer": "ipython3",
   "version": "3.7.9"
  }
 },
 "nbformat": 4,
 "nbformat_minor": 4
}
